{
 "cells": [
  {
   "cell_type": "code",
   "execution_count": 8,
   "id": "e37f8f00",
   "metadata": {},
   "outputs": [
    {
     "name": "stdout",
     "output_type": "stream",
     "text": [
      "30\n"
     ]
    }
   ],
   "source": [
    "class pc1:\n",
    " n=\"harish\"\n",
    " def fun1(self,a,b):\n",
    "        fc=a+b\n",
    "        return fc\n",
    "obj1=pc1()\n",
    "print(obj1.fun1(10,20))\n",
    "        "
   ]
  },
  {
   "cell_type": "code",
   "execution_count": 25,
   "id": "068a6bc5",
   "metadata": {},
   "outputs": [
    {
     "name": "stdout",
     "output_type": "stream",
     "text": [
      "('harish', 20000)\n",
      "('ram', 10000)\n"
     ]
    }
   ],
   "source": [
    "class Employee():\n",
    "    name=\"\"\n",
    "    salary=0\n",
    "    def fun2(self,name,salary):\n",
    "        return name,salary\n",
    "    \n",
    "obj2=Employee()\n",
    "print(obj2.fun2(\"harish\",20000))\n",
    "print(obj2.fun2(\"ram\",10000))\n",
    "    \n",
    "        "
   ]
  },
  {
   "cell_type": "code",
   "execution_count": 7,
   "id": "45f7550e",
   "metadata": {},
   "outputs": [
    {
     "name": "stdout",
     "output_type": "stream",
     "text": [
      "class B run\n",
      "class B function fun2 run\n",
      "class A function fun1 run\n"
     ]
    }
   ],
   "source": [
    "class A:\n",
    "  def __init__(self):\n",
    "    print(\"class A run\")\n",
    "  def fun1(self):\n",
    "    print(\"class A function fun1 run\")\n",
    "class B(A):\n",
    "  def __init__(self):\n",
    "        print(\"class B run\")\n",
    "  def fun2(self):\n",
    "    print(\"class B function fun2 run\")\n",
    "obj2=B()\n",
    "obj2.fun2()\n",
    "obj2.fun1()"
   ]
  },
  {
   "cell_type": "code",
   "execution_count": 16,
   "id": "c9ee8fc9",
   "metadata": {},
   "outputs": [
    {
     "name": "stdout",
     "output_type": "stream",
     "text": [
      "class C run\n",
      "class C function fun3 run\n",
      "class B function fun2 run\n",
      "class A function fun1 run\n"
     ]
    }
   ],
   "source": [
    "class A:\n",
    "  def __init__(self):\n",
    "    print(\"class A run\")\n",
    "  def fun1(self):\n",
    "    print(\"class A function fun1 run\")\n",
    "class B(A):\n",
    "  def __init__(self):\n",
    "        print(\"class B run\")\n",
    "  def fun2(self):\n",
    "    print(\"class B function fun2 run\")\n",
    "class C(B):\n",
    "    def __init__(self):\n",
    "        print(\"class C run\")\n",
    "    def fun3(self):\n",
    "        print(\"class C function fun3 run\")\n",
    "obj2=C()\n",
    "obj2.fun3()\n",
    "obj2.fun2()\n",
    "obj2.fun1()"
   ]
  },
  {
   "cell_type": "code",
   "execution_count": 34,
   "id": "4f72f14f",
   "metadata": {},
   "outputs": [
    {
     "name": "stdout",
     "output_type": "stream",
     "text": [
      "['physics', 'chemistry'] ['a', 'b', 'c', 'a', 'b', 'c']\n"
     ]
    }
   ],
   "source": [
    "list1=['physics','chemistry','1997','2000'];\n",
    "list2=[1,2,3,4];\n",
    "list3=[\"a\",\"b\",\"c\",\"d\"];\n",
    "print(list1[0:2],list3[0:-1]*2)"
   ]
  },
  {
   "cell_type": "code",
   "execution_count": 61,
   "id": "5f07be47",
   "metadata": {},
   "outputs": [
    {
     "name": "stdout",
     "output_type": "stream",
     "text": [
      "97\n",
      "2\n",
      "7\n",
      "97\n",
      "2.449489742783178\n",
      "118.45\n"
     ]
    }
   ],
   "source": [
    "import math\n",
    "list=[3,71,97,7,02.45,2,33];\n",
    "x=6;\n",
    "print(max(list))\n",
    "print(min(list))\n",
    "print(len(list))\n",
    "print(list.pop(2))\n",
    "print(math.sqrt(x))\n",
    "print(sum(list))\n",
    "\n",
    "\n",
    "\n"
   ]
  },
  {
   "cell_type": "code",
   "execution_count": null,
   "id": "c932ba51",
   "metadata": {},
   "outputs": [],
   "source": []
  },
  {
   "cell_type": "code",
   "execution_count": null,
   "id": "47184c0d",
   "metadata": {},
   "outputs": [],
   "source": []
  },
  {
   "cell_type": "code",
   "execution_count": null,
   "id": "39e2f8fe",
   "metadata": {},
   "outputs": [],
   "source": []
  },
  {
   "cell_type": "code",
   "execution_count": null,
   "id": "1f97ef23",
   "metadata": {},
   "outputs": [],
   "source": []
  }
 ],
 "metadata": {
  "kernelspec": {
   "display_name": "Python 3 (ipykernel)",
   "language": "python",
   "name": "python3"
  },
  "language_info": {
   "codemirror_mode": {
    "name": "ipython",
    "version": 3
   },
   "file_extension": ".py",
   "mimetype": "text/x-python",
   "name": "python",
   "nbconvert_exporter": "python",
   "pygments_lexer": "ipython3",
   "version": "3.10.9"
  }
 },
 "nbformat": 4,
 "nbformat_minor": 5
}
