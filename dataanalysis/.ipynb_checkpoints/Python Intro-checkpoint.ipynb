{
 "cells": [
  {
   "cell_type": "code",
   "execution_count": 1,
   "id": "f6e27f92",
   "metadata": {},
   "outputs": [
    {
     "name": "stdout",
     "output_type": "stream",
     "text": [
      "hello world\n"
     ]
    }
   ],
   "source": [
    "print(\"hello world\")"
   ]
  },
  {
   "cell_type": "code",
   "execution_count": 7,
   "id": "6618a496",
   "metadata": {},
   "outputs": [
    {
     "name": "stdout",
     "output_type": "stream",
     "text": [
      "value of c is 50\n",
      "value of c is 225\n",
      "value of c is -40\n",
      "value of c is 0.1111111111111111\n",
      "value of c is 28421709430404007434844970703125\n",
      "value of c is 5\n",
      "value of c is 0\n"
     ]
    }
   ],
   "source": [
    "a=5\n",
    "b=15\n",
    "c=0\n",
    "c=a+b\n",
    "print(\"value of c is\", c)\n",
    "c=a*b\n",
    "print(\"value of c is\", c)\n",
    "c=a-b\n",
    "print(\"value of c is\", c)\n",
    "c=a/b\n",
    "print(\"value of c is\", c)\n",
    "c=a**b\n",
    "print(\"value of c is\", c)\n",
    "c=a%b\n",
    "print(\"value of c is\", c)\n",
    "c=a//b\n",
    "print(\"value of c is\", c)"
   ]
  },
  {
   "cell_type": "code",
   "execution_count": 8,
   "id": "9a6513bb",
   "metadata": {},
   "outputs": [
    {
     "name": "stdout",
     "output_type": "stream",
     "text": [
      "Line 2 - Value of c is  -40\n",
      "Line 3 - Value of c is  225\n",
      "Line 4 - Value of c is  0.1111111111111111\n",
      "Line 5 - Value of c is  5\n",
      "Line 6 - Value of c is  8\n",
      "Line 7 - Value of c is  2\n"
     ]
    }
   ],
   "source": [
    "c=a-b\n",
    "print (\"Line 2 - Value of c is \", c )\n",
    "c=a*b\n",
    "print (\"Line 3 - Value of c is \", c)\n",
    "c=a/b\n",
    "print (\"Line 4 - Value of c is \", c )\n",
    "c=a%b\n",
    "print (\"Line 5 - Value of c is \", c)\n",
    "a=10\n",
    "b=20\n",
    "c = a**b\n",
    "print (\"Line 6 - Value of c is \", c)\n",
    "a = 10\n",
    "b=5\n",
    "c = a//b\n",
    "print (\"Line 7 - Value of c is \", c)"
   ]
  },
  {
   "cell_type": "code",
   "execution_count": 28,
   "id": "cb9e46cb",
   "metadata": {},
   "outputs": [
    {
     "name": "stdout",
     "output_type": "stream",
     "text": [
      "Line 1 - a is not equal to b\n",
      "Line 2 - a is not equal to b\n",
      "Line 3 - a is less than b\n",
      "Line 4 - a is not greater than b\n",
      "Line 5 - a is neither less than nor equal to b\n",
      "Line 6 - b is neither greater than nor equal to b\n"
     ]
    }
   ],
   "source": [
    "a = 15\n",
    "b = 25\n",
    "if ( a == b ):\n",
    "  print (\"Line 1 - a is equal to b\") \n",
    "else:\n",
    "  print (\"Line 1 - a is not equal to b\")\n",
    "if ( a != b ):\n",
    "  print (\"Line 2 - a is not equal to b\")\n",
    "else:\n",
    "  print (\"Line 2 - a is equal to b\")\n",
    "if ( a < b ):\n",
    "  print (\"Line 3 - a is less than b\" )\n",
    "else:\n",
    "  print (\"Line 3 - a is not less than b\")\n",
    "if ( a > b ):\n",
    "  print (\"Line 4 - a is greater than b\")\n",
    "else:\n",
    "  print (\"Line 4 - a is not greater than b\")\n",
    "a,b=b,a #values of a and b swapped. a becomes 10, b becomes 21\n",
    "if ( a <= b ):\n",
    " print (\"Line 5 - a is either less than or equal to b\")\n",
    "else:\n",
    " print (\"Line 5 - a is neither less than nor equal to b\")\n",
    "if ( b >= a ):\n",
    " print (\"Line 6 - b is either greater than or equal to b\")\n",
    "else:\n",
    " print (\"Line 6 - b is neither greater than nor equal to b\")"
   ]
  },
  {
   "cell_type": "code",
   "execution_count": 11,
   "id": "2aa24dfe",
   "metadata": {},
   "outputs": [
    {
     "name": "stdout",
     "output_type": "stream",
     "text": [
      "False\n",
      "True\n",
      "False\n",
      "True\n"
     ]
    }
   ],
   "source": [
    "a=10\n",
    "b=20\n",
    "print(a==b)\n",
    "print(a<=b)\n",
    "print(a>=b)\n",
    "print(a!=b)\n"
   ]
  },
  {
   "cell_type": "code",
   "execution_count": 21,
   "id": "b0f26c7f",
   "metadata": {},
   "outputs": [
    {
     "name": "stdout",
     "output_type": "stream",
     "text": [
      "1944831.0\n",
      "1944810.0\n",
      "40841010.0\n"
     ]
    }
   ],
   "source": [
    "a+=b\n",
    "print (a)\n",
    "a-=b\n",
    "printc(a)\n",
    "a*=b\n",
    "print(a)"
   ]
  },
  {
   "cell_type": "code",
   "execution_count": 29,
   "id": "2bc32423",
   "metadata": {},
   "outputs": [
    {
     "name": "stdout",
     "output_type": "stream",
     "text": [
      "a= 60 : 0b111100\n",
      "b= 13 : 0b1101\n",
      "result of AND is 12 : 0b1100\n",
      "result of OR is 61 : 0b111101\n",
      "result of EXOR is 49 : 0b110001\n",
      "result of COMPLEMENT is -61 : -0b111101\n",
      "result of LEFT SHIFT is 240 : 0b11110000\n",
      "value of RIGHT SHIFT is 15 : 0b1111\n"
     ]
    }
   ],
   "source": [
    "a=60 #60 = 0011 1100\n",
    "\n",
    "b=13 #13 = 0000 1101\n",
    "print ('a=',a,':',bin(a))\n",
    "print('b=',b,':',bin(b))\n",
    "c=0\n",
    "c= a&b; #12 = 0000 1100\n",
    "print (\"result of AND is\", c, ':',bin(c))\n",
    "c= a|b; #61=0011 1101\n",
    "print(\"result of OR is\",c,':',bin(c))\n",
    "c=a^b; #49=0011 0001\n",
    "print(\"result of EXOR is\",c,':',bin(c))\n",
    "c = ~a; #-61=1100 0011\n",
    "print(\"result of COMPLEMENT is\",c,\":\",bin(c))\n",
    "c=a<<2; #240=1111 0000\n",
    "print(\"result of LEFT SHIFT is\",c,\":\",bin(c))\n",
    "c=a>>2; #15=0000 1111\n",
    "print(\"value of RIGHT SHIFT is\",c,\":\",bin(c))"
   ]
  },
  {
   "cell_type": "code",
   "execution_count": 36,
   "id": "ed2f4568",
   "metadata": {},
   "outputs": [
    {
     "name": "stdout",
     "output_type": "stream",
     "text": [
      "a is  1\n",
      "a is  2\n",
      "a is  3\n",
      "a is  4\n",
      "a is  5\n",
      "a is  6\n",
      "a is  7\n",
      "a is  8\n",
      "a is  9\n",
      "gud bye\n"
     ]
    }
   ],
   "source": [
    "a=0\n",
    "while(a<9):\n",
    " a = a+1\n",
    " print(\"a is \", a)\n",
    " \n",
    "print(\"gud bye\")"
   ]
  },
  {
   "cell_type": "code",
   "execution_count": null,
   "id": "74762181",
   "metadata": {},
   "outputs": [],
   "source": []
  },
  {
   "cell_type": "code",
   "execution_count": null,
   "id": "8aa5c0e3",
   "metadata": {},
   "outputs": [],
   "source": []
  },
  {
   "cell_type": "code",
   "execution_count": null,
   "id": "d4aa4674",
   "metadata": {},
   "outputs": [],
   "source": []
  }
 ],
 "metadata": {
  "kernelspec": {
   "display_name": "Python 3 (ipykernel)",
   "language": "python",
   "name": "python3"
  },
  "language_info": {
   "codemirror_mode": {
    "name": "ipython",
    "version": 3
   },
   "file_extension": ".py",
   "mimetype": "text/x-python",
   "name": "python",
   "nbconvert_exporter": "python",
   "pygments_lexer": "ipython3",
   "version": "3.10.9"
  }
 },
 "nbformat": 4,
 "nbformat_minor": 5
}
